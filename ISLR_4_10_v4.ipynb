{
 "cells": [
  {
   "cell_type": "markdown",
   "metadata": {
    "slideshow": {
     "slide_type": "slide"
    }
   },
   "source": [
    "***\n",
    "### R & Python Study Group - Statistical Learning\n",
    "***\n",
    "05/05/2021\n",
    "\n",
    "Demo - Classification Exercise\n",
    "\n",
    "James Bredin"
   ]
  },
  {
   "cell_type": "markdown",
   "metadata": {
    "slideshow": {
     "slide_type": "slide"
    }
   },
   "source": [
    "### Introduction to Statistical Learning \n",
    "#### Chapter 4 Classification \n",
    "#### Applied Exercise 10\n"
   ]
  },
  {
   "cell_type": "markdown",
   "metadata": {
    "slideshow": {
     "slide_type": "fragment"
    }
   },
   "source": [
    "\"This question should be answered using the Weekly data set, which is part of the ISLR package. This data is similar in nature to the Smarket data from this chapter’s lab, except that it contains 1, 089 weekly returns for 21 years, from the beginning of 1990 to the end of 2010.\""
   ]
  },
  {
   "cell_type": "markdown",
   "metadata": {
    "slideshow": {
     "slide_type": "slide"
    }
   },
   "source": [
    "#### Part (a) Produce some numerical and graphical summaries of the Weekly data. Do there appear to be any patterns?"
   ]
  },
  {
   "cell_type": "code",
   "execution_count": 1,
   "metadata": {
    "slideshow": {
     "slide_type": "skip"
    }
   },
   "outputs": [],
   "source": [
    "import pandas as pd\n",
    "weekly_data = pd.read_csv(r\"C:\\Users\\james\\OneDrive\\Documents\\R\\Data\\Weekly1.csv\",index_col=0)"
   ]
  },
  {
   "cell_type": "code",
   "execution_count": 2,
   "metadata": {
    "slideshow": {
     "slide_type": "slide"
    }
   },
   "outputs": [
    {
     "name": "stdout",
     "output_type": "stream",
     "text": [
      "   Year   Lag1   Lag2   Lag3   Lag4   Lag5    Volume  Today Direction\n",
      "1  1990  0.816  1.572 -3.936 -0.229 -3.484  0.154976 -0.270      Down\n",
      "2  1990 -0.270  0.816  1.572 -3.936 -0.229  0.148574 -2.576      Down\n",
      "3  1990 -2.576 -0.270  0.816  1.572 -3.936  0.159837  3.514        Up\n",
      "4  1990  3.514 -2.576 -0.270  0.816  1.572  0.161630  0.712        Up\n",
      "5  1990  0.712  3.514 -2.576 -0.270  0.816  0.153728  1.178        Up\n"
     ]
    }
   ],
   "source": [
    "print(weekly_data.head())"
   ]
  },
  {
   "cell_type": "markdown",
   "metadata": {
    "slideshow": {
     "slide_type": "notes"
    }
   },
   "source": [
    "The response variable in focus i.e. direction is a derived variable which contains less information than the the stock return itself.\n",
    "\n",
    "Would I be right in thinking this perhaps make the challenge easier to fit a model however perhaps less useful... suppose you wanted to use in the model in the context of a portfolio of stocks and bonds e.g. to predict return for the portfolio - the model for direction would be less useful than a model for the return itself.\n",
    "\n",
    "We have a time index, a volume feature, and 5 lag returns. The feature dataset is less rich than it appears - there is less information here than the number of columns suggests. The lag features and the current return are all derived from a single return data field."
   ]
  },
  {
   "cell_type": "markdown",
   "metadata": {
    "slideshow": {
     "slide_type": "notes"
    }
   },
   "source": [
    "The stock market data seems like a time series dataset. We have the year of each datapoint, and have lag data over 6 weeks. Can see a diagonal pattern that indicates the data is arranged in an ordered sequence, albeit this is not tagged in the data. \n",
    "\n",
    "ACTION later - recap on time series concepts and how they would apply.\n",
    "ACTION - could validate the weekly diagonal pattern in the whole dataset. Is it true for all i that Lag5(i) = Lag4(i-1) = ... = Lag1(i-4) = Today(i-5)"
   ]
  },
  {
   "cell_type": "code",
   "execution_count": 3,
   "metadata": {
    "scrolled": true,
    "slideshow": {
     "slide_type": "skip"
    }
   },
   "outputs": [
    {
     "name": "stdout",
     "output_type": "stream",
     "text": [
      "      Lag1\n",
      "Year      \n",
      "1990    47\n",
      "1991    52\n",
      "1992    52\n",
      "1993    52\n",
      "1994    52\n",
      "1995    52\n",
      "1996    53\n",
      "1997    52\n",
      "1998    52\n",
      "1999    52\n",
      "2000    52\n",
      "2001    52\n",
      "2002    52\n",
      "2003    52\n",
      "2004    52\n",
      "2005    52\n",
      "2006    52\n",
      "2007    53\n",
      "2008    52\n",
      "2009    52\n",
      "2010    52\n"
     ]
    }
   ],
   "source": [
    "print(weekly_data[['Year','Lag1']].groupby('Year').count())"
   ]
  },
  {
   "cell_type": "markdown",
   "metadata": {
    "slideshow": {
     "slide_type": "skip"
    }
   },
   "source": [
    "The count of 52 datapoints per year is broadly as expected for a weekly dataset."
   ]
  },
  {
   "cell_type": "code",
   "execution_count": 4,
   "metadata": {
    "slideshow": {
     "slide_type": "slide"
    }
   },
   "outputs": [
    {
     "data": {
      "text/html": [
       "<div>\n",
       "<style scoped>\n",
       "    .dataframe tbody tr th:only-of-type {\n",
       "        vertical-align: middle;\n",
       "    }\n",
       "\n",
       "    .dataframe tbody tr th {\n",
       "        vertical-align: top;\n",
       "    }\n",
       "\n",
       "    .dataframe thead th {\n",
       "        text-align: right;\n",
       "    }\n",
       "</style>\n",
       "<table border=\"1\" class=\"dataframe\">\n",
       "  <thead>\n",
       "    <tr style=\"text-align: right;\">\n",
       "      <th></th>\n",
       "      <th>Year</th>\n",
       "      <th>Lag1</th>\n",
       "      <th>Lag2</th>\n",
       "      <th>Lag3</th>\n",
       "      <th>Lag4</th>\n",
       "      <th>Lag5</th>\n",
       "      <th>Volume</th>\n",
       "      <th>Today</th>\n",
       "    </tr>\n",
       "  </thead>\n",
       "  <tbody>\n",
       "    <tr>\n",
       "      <th>count</th>\n",
       "      <td>1089.000000</td>\n",
       "      <td>1089.000000</td>\n",
       "      <td>1089.000000</td>\n",
       "      <td>1089.000000</td>\n",
       "      <td>1089.000000</td>\n",
       "      <td>1089.000000</td>\n",
       "      <td>1089.000000</td>\n",
       "      <td>1089.000000</td>\n",
       "    </tr>\n",
       "    <tr>\n",
       "      <th>mean</th>\n",
       "      <td>2000.048669</td>\n",
       "      <td>0.150585</td>\n",
       "      <td>0.151079</td>\n",
       "      <td>0.147205</td>\n",
       "      <td>0.145818</td>\n",
       "      <td>0.139893</td>\n",
       "      <td>1.574618</td>\n",
       "      <td>0.149899</td>\n",
       "    </tr>\n",
       "    <tr>\n",
       "      <th>std</th>\n",
       "      <td>6.033182</td>\n",
       "      <td>2.357013</td>\n",
       "      <td>2.357254</td>\n",
       "      <td>2.360502</td>\n",
       "      <td>2.360279</td>\n",
       "      <td>2.361285</td>\n",
       "      <td>1.686636</td>\n",
       "      <td>2.356927</td>\n",
       "    </tr>\n",
       "    <tr>\n",
       "      <th>min</th>\n",
       "      <td>1990.000000</td>\n",
       "      <td>-18.195000</td>\n",
       "      <td>-18.195000</td>\n",
       "      <td>-18.195000</td>\n",
       "      <td>-18.195000</td>\n",
       "      <td>-18.195000</td>\n",
       "      <td>0.087465</td>\n",
       "      <td>-18.195000</td>\n",
       "    </tr>\n",
       "    <tr>\n",
       "      <th>25%</th>\n",
       "      <td>1995.000000</td>\n",
       "      <td>-1.154000</td>\n",
       "      <td>-1.154000</td>\n",
       "      <td>-1.158000</td>\n",
       "      <td>-1.158000</td>\n",
       "      <td>-1.166000</td>\n",
       "      <td>0.332022</td>\n",
       "      <td>-1.154000</td>\n",
       "    </tr>\n",
       "    <tr>\n",
       "      <th>50%</th>\n",
       "      <td>2000.000000</td>\n",
       "      <td>0.241000</td>\n",
       "      <td>0.241000</td>\n",
       "      <td>0.241000</td>\n",
       "      <td>0.238000</td>\n",
       "      <td>0.234000</td>\n",
       "      <td>1.002680</td>\n",
       "      <td>0.241000</td>\n",
       "    </tr>\n",
       "    <tr>\n",
       "      <th>75%</th>\n",
       "      <td>2005.000000</td>\n",
       "      <td>1.405000</td>\n",
       "      <td>1.409000</td>\n",
       "      <td>1.409000</td>\n",
       "      <td>1.409000</td>\n",
       "      <td>1.405000</td>\n",
       "      <td>2.053727</td>\n",
       "      <td>1.405000</td>\n",
       "    </tr>\n",
       "    <tr>\n",
       "      <th>max</th>\n",
       "      <td>2010.000000</td>\n",
       "      <td>12.026000</td>\n",
       "      <td>12.026000</td>\n",
       "      <td>12.026000</td>\n",
       "      <td>12.026000</td>\n",
       "      <td>12.026000</td>\n",
       "      <td>9.328214</td>\n",
       "      <td>12.026000</td>\n",
       "    </tr>\n",
       "  </tbody>\n",
       "</table>\n",
       "</div>"
      ],
      "text/plain": [
       "              Year         Lag1         Lag2         Lag3         Lag4  \\\n",
       "count  1089.000000  1089.000000  1089.000000  1089.000000  1089.000000   \n",
       "mean   2000.048669     0.150585     0.151079     0.147205     0.145818   \n",
       "std       6.033182     2.357013     2.357254     2.360502     2.360279   \n",
       "min    1990.000000   -18.195000   -18.195000   -18.195000   -18.195000   \n",
       "25%    1995.000000    -1.154000    -1.154000    -1.158000    -1.158000   \n",
       "50%    2000.000000     0.241000     0.241000     0.241000     0.238000   \n",
       "75%    2005.000000     1.405000     1.409000     1.409000     1.409000   \n",
       "max    2010.000000    12.026000    12.026000    12.026000    12.026000   \n",
       "\n",
       "              Lag5       Volume        Today  \n",
       "count  1089.000000  1089.000000  1089.000000  \n",
       "mean      0.139893     1.574618     0.149899  \n",
       "std       2.361285     1.686636     2.356927  \n",
       "min     -18.195000     0.087465   -18.195000  \n",
       "25%      -1.166000     0.332022    -1.154000  \n",
       "50%       0.234000     1.002680     0.241000  \n",
       "75%       1.405000     2.053727     1.405000  \n",
       "max      12.026000     9.328214    12.026000  "
      ]
     },
     "execution_count": 4,
     "metadata": {},
     "output_type": "execute_result"
    }
   ],
   "source": [
    "weekly_data.describe()"
   ]
  },
  {
   "cell_type": "markdown",
   "metadata": {
    "slideshow": {
     "slide_type": "notes"
    }
   },
   "source": [
    "For all fields the count is 1,089 entries as expected.\n",
    "\n",
    "The mean and standard deviation for today's data as well as the lag variables are similar, as expected, because they share largely the same data.\n",
    "\n",
    "Similarly, the min, max, and quartiles are the same / quite close.\n",
    "\n",
    "ACTION: Consider the finer detail here - any insights / questions for the variations across the lag fields?"
   ]
  },
  {
   "cell_type": "code",
   "execution_count": 5,
   "metadata": {
    "slideshow": {
     "slide_type": "skip"
    }
   },
   "outputs": [
    {
     "data": {
      "text/plain": [
       "<Figure size 720x720 with 0 Axes>"
      ]
     },
     "execution_count": 5,
     "metadata": {},
     "output_type": "execute_result"
    },
    {
     "data": {
      "text/plain": [
       "<Figure size 720x720 with 0 Axes>"
      ]
     },
     "metadata": {},
     "output_type": "display_data"
    }
   ],
   "source": [
    "from matplotlib import pyplot as plt\n",
    "# Seaborn visualization library\n",
    "import seaborn as sns\n",
    "# Create the default pairplot\n",
    "%matplotlib inline\n",
    "plt.figure(figsize=(10,10))"
   ]
  },
  {
   "cell_type": "code",
   "execution_count": 6,
   "metadata": {
    "slideshow": {
     "slide_type": "slide"
    }
   },
   "outputs": [
    {
     "data": {
      "text/plain": [
       "<seaborn.axisgrid.PairGrid at 0x146969007f0>"
      ]
     },
     "execution_count": 6,
     "metadata": {},
     "output_type": "execute_result"
    },
    {
     "data": {
      "image/png": "[encoded data removed]",
      "text/plain": [
       "<Figure size 576x576 with 72 Axes>"
      ]
     },
     "metadata": {
      "needs_background": "light"
     },
     "output_type": "display_data"
    }
   ],
   "source": [
    "sns.pairplot(weekly_data,height=1,plot_kws={\"s\": 1})"
   ]
  },
  {
   "cell_type": "markdown",
   "metadata": {
    "slideshow": {
     "slide_type": "notes"
    }
   },
   "source": [
    "Volume is increasing by year - this is the only strong apparent pattern to me in the above scatter plots.\n",
    "\n",
    "This is an example of the power of these programming languages that are high level and have fit-for-purpose packages - it was very quick to write this code with the help of google especially considering I had not used this package before. It would be considerable effort to produce this in excel!"
   ]
  },
  {
   "cell_type": "code",
   "execution_count": 7,
   "metadata": {
    "slideshow": {
     "slide_type": "slide"
    }
   },
   "outputs": [
    {
     "data": {
      "text/html": [
       "<div>\n",
       "<style scoped>\n",
       "    .dataframe tbody tr th:only-of-type {\n",
       "        vertical-align: middle;\n",
       "    }\n",
       "\n",
       "    .dataframe tbody tr th {\n",
       "        vertical-align: top;\n",
       "    }\n",
       "\n",
       "    .dataframe thead th {\n",
       "        text-align: right;\n",
       "    }\n",
       "</style>\n",
       "<table border=\"1\" class=\"dataframe\">\n",
       "  <thead>\n",
       "    <tr style=\"text-align: right;\">\n",
       "      <th></th>\n",
       "      <th>Year</th>\n",
       "      <th>Lag1</th>\n",
       "      <th>Lag2</th>\n",
       "      <th>Lag3</th>\n",
       "      <th>Lag4</th>\n",
       "      <th>Lag5</th>\n",
       "      <th>Volume</th>\n",
       "      <th>Today</th>\n",
       "    </tr>\n",
       "  </thead>\n",
       "  <tbody>\n",
       "    <tr>\n",
       "      <th>Year</th>\n",
       "      <td>1.000000</td>\n",
       "      <td>-0.032289</td>\n",
       "      <td>-0.033390</td>\n",
       "      <td>-0.030006</td>\n",
       "      <td>-0.031128</td>\n",
       "      <td>-0.030519</td>\n",
       "      <td>0.841942</td>\n",
       "      <td>-0.032460</td>\n",
       "    </tr>\n",
       "    <tr>\n",
       "      <th>Lag1</th>\n",
       "      <td>-0.032289</td>\n",
       "      <td>1.000000</td>\n",
       "      <td>-0.074853</td>\n",
       "      <td>0.058636</td>\n",
       "      <td>-0.071274</td>\n",
       "      <td>-0.008183</td>\n",
       "      <td>-0.064951</td>\n",
       "      <td>-0.075032</td>\n",
       "    </tr>\n",
       "    <tr>\n",
       "      <th>Lag2</th>\n",
       "      <td>-0.033390</td>\n",
       "      <td>-0.074853</td>\n",
       "      <td>1.000000</td>\n",
       "      <td>-0.075721</td>\n",
       "      <td>0.058382</td>\n",
       "      <td>-0.072499</td>\n",
       "      <td>-0.085513</td>\n",
       "      <td>0.059167</td>\n",
       "    </tr>\n",
       "    <tr>\n",
       "      <th>Lag3</th>\n",
       "      <td>-0.030006</td>\n",
       "      <td>0.058636</td>\n",
       "      <td>-0.075721</td>\n",
       "      <td>1.000000</td>\n",
       "      <td>-0.075396</td>\n",
       "      <td>0.060657</td>\n",
       "      <td>-0.069288</td>\n",
       "      <td>-0.071244</td>\n",
       "    </tr>\n",
       "    <tr>\n",
       "      <th>Lag4</th>\n",
       "      <td>-0.031128</td>\n",
       "      <td>-0.071274</td>\n",
       "      <td>0.058382</td>\n",
       "      <td>-0.075396</td>\n",
       "      <td>1.000000</td>\n",
       "      <td>-0.075675</td>\n",
       "      <td>-0.061075</td>\n",
       "      <td>-0.007826</td>\n",
       "    </tr>\n",
       "    <tr>\n",
       "      <th>Lag5</th>\n",
       "      <td>-0.030519</td>\n",
       "      <td>-0.008183</td>\n",
       "      <td>-0.072499</td>\n",
       "      <td>0.060657</td>\n",
       "      <td>-0.075675</td>\n",
       "      <td>1.000000</td>\n",
       "      <td>-0.058517</td>\n",
       "      <td>0.011013</td>\n",
       "    </tr>\n",
       "    <tr>\n",
       "      <th>Volume</th>\n",
       "      <td>0.841942</td>\n",
       "      <td>-0.064951</td>\n",
       "      <td>-0.085513</td>\n",
       "      <td>-0.069288</td>\n",
       "      <td>-0.061075</td>\n",
       "      <td>-0.058517</td>\n",
       "      <td>1.000000</td>\n",
       "      <td>-0.033078</td>\n",
       "    </tr>\n",
       "    <tr>\n",
       "      <th>Today</th>\n",
       "      <td>-0.032460</td>\n",
       "      <td>-0.075032</td>\n",
       "      <td>0.059167</td>\n",
       "      <td>-0.071244</td>\n",
       "      <td>-0.007826</td>\n",
       "      <td>0.011013</td>\n",
       "      <td>-0.033078</td>\n",
       "      <td>1.000000</td>\n",
       "    </tr>\n",
       "  </tbody>\n",
       "</table>\n",
       "</div>"
      ],
      "text/plain": [
       "            Year      Lag1      Lag2      Lag3      Lag4      Lag5    Volume  \\\n",
       "Year    1.000000 -0.032289 -0.033390 -0.030006 -0.031128 -0.030519  0.841942   \n",
       "Lag1   -0.032289  1.000000 -0.074853  0.058636 -0.071274 -0.008183 -0.064951   \n",
       "Lag2   -0.033390 -0.074853  1.000000 -0.075721  0.058382 -0.072499 -0.085513   \n",
       "Lag3   -0.030006  0.058636 -0.075721  1.000000 -0.075396  0.060657 -0.069288   \n",
       "Lag4   -0.031128 -0.071274  0.058382 -0.075396  1.000000 -0.075675 -0.061075   \n",
       "Lag5   -0.030519 -0.008183 -0.072499  0.060657 -0.075675  1.000000 -0.058517   \n",
       "Volume  0.841942 -0.064951 -0.085513 -0.069288 -0.061075 -0.058517  1.000000   \n",
       "Today  -0.032460 -0.075032  0.059167 -0.071244 -0.007826  0.011013 -0.033078   \n",
       "\n",
       "           Today  \n",
       "Year   -0.032460  \n",
       "Lag1   -0.075032  \n",
       "Lag2    0.059167  \n",
       "Lag3   -0.071244  \n",
       "Lag4   -0.007826  \n",
       "Lag5    0.011013  \n",
       "Volume -0.033078  \n",
       "Today   1.000000  "
      ]
     },
     "execution_count": 7,
     "metadata": {},
     "output_type": "execute_result"
    }
   ],
   "source": [
    "weekly_data.corr()"
   ]
  },
  {
   "cell_type": "markdown",
   "metadata": {
    "slideshow": {
     "slide_type": "notes"
    }
   },
   "source": [
    "The correlation of volume with year is high and positive - in keeping with the observation in the plots above.\n",
    "\n",
    "Focussing on the right hand column, we see small correations with lags 1,2,3 where 1 and 3 are negative and 2 is positive.\n",
    "\n",
    "This is pearson's correlation, and it measures the linear relationship between pairs of variables.\n",
    "\n",
    "What about today's return - can volume tell us anything about that? The following boxplots indicate a broadly similar story for volume on both the good days and the bad. I can't see a new a new trading strategy emerging here."
   ]
  },
  {
   "cell_type": "code",
   "execution_count": 8,
   "metadata": {
    "slideshow": {
     "slide_type": "skip"
    }
   },
   "outputs": [
    {
     "data": {
      "image/png": "[encoded data removed]",
      "text/plain": [
       "<Figure size 432x288 with 1 Axes>"
      ]
     },
     "metadata": {
      "needs_background": "light"
     },
     "output_type": "display_data"
    }
   ],
   "source": [
    "%matplotlib inline\n",
    "fig1, ax1 = plt.subplots()\n",
    "weekly_data.boxplot(column=[\"Volume\"],by='Direction',ax=ax1)\n",
    "plt.show()"
   ]
  },
  {
   "cell_type": "markdown",
   "metadata": {
    "slideshow": {
     "slide_type": "slide"
    }
   },
   "source": [
    "#### Part (b) Use the full data set to perform a logistic regression with Direction as the response and the five lag variables plus Volume as predictors. Use the summary function to print the results. Do any of the predictors appear to be statistically significant? If so, which ones?"
   ]
  },
  {
   "cell_type": "code",
   "execution_count": 9,
   "metadata": {
    "slideshow": {
     "slide_type": "skip"
    }
   },
   "outputs": [
    {
     "name": "stdout",
     "output_type": "stream",
     "text": [
      "x_data:\n",
      "\n",
      "     Lag1   Lag2   Lag3   Lag4   Lag5    Volume\n",
      "1  0.816  1.572 -3.936 -0.229 -3.484  0.154976\n",
      "2 -0.270  0.816  1.572 -3.936 -0.229  0.148574\n",
      "3 -2.576 -0.270  0.816  1.572 -3.936  0.159837\n",
      "4  3.514 -2.576 -0.270  0.816  1.572  0.161630\n",
      "5  0.712  3.514 -2.576 -0.270  0.816  0.153728 \n",
      "\n",
      "y_data:\n",
      "\n",
      " 1    Down\n",
      "2    Down\n",
      "3      Up\n",
      "4      Up\n",
      "5      Up\n",
      "Name: Direction, dtype: object\n"
     ]
    }
   ],
   "source": [
    "x_data = weekly_data.iloc[:,1:7]\n",
    "y_data = weekly_data.iloc[:,8]\n",
    "print(\"x_data:\\n\\n\",x_data.head(),\"\\n\")\n",
    "print(\"y_data:\\n\\n\",y_data.head())"
   ]
  },
  {
   "cell_type": "code",
   "execution_count": 10,
   "metadata": {
    "slideshow": {
     "slide_type": "skip"
    }
   },
   "outputs": [
    {
     "data": {
      "text/plain": [
       "1    0\n",
       "2    0\n",
       "3    1\n",
       "4    1\n",
       "5    1\n",
       "dtype: int32"
      ]
     },
     "execution_count": 10,
     "metadata": {},
     "output_type": "execute_result"
    }
   ],
   "source": [
    "import numpy as np\n",
    "\n",
    "conds = [y_data == 'Down',y_data=='Up']\n",
    "choices = [0,1]\n",
    "\n",
    "y_data_sm = pd.Series(np.select(conds,choices))\n",
    "\n",
    "y_data_sm.index +=1\n",
    "y_data_sm.head()\n",
    "\n",
    "#action - explore better ways of achieving the above"
   ]
  },
  {
   "cell_type": "code",
   "execution_count": 11,
   "metadata": {
    "scrolled": true,
    "slideshow": {
     "slide_type": "slide"
    }
   },
   "outputs": [
    {
     "name": "stdout",
     "output_type": "stream",
     "text": [
      "Optimization terminated successfully.\n",
      "         Current function value: 0.686896\n",
      "         Iterations 4\n",
      "                           Logit Regression Results                           \n",
      "==============================================================================\n",
      "Dep. Variable:                      y   No. Observations:                 1089\n",
      "Model:                          Logit   Df Residuals:                     1083\n",
      "Method:                           MLE   Df Model:                            5\n",
      "Date:                Sat, 15 May 2021   Pseudo R-squ.:               9.505e-05\n",
      "Time:                        19:10:29   Log-Likelihood:                -748.03\n",
      "converged:                       True   LL-Null:                       -748.10\n",
      "Covariance Type:            nonrobust   LLR p-value:                    0.9996\n",
      "==============================================================================\n",
      "                 coef    std err          z      P>|z|      [0.025      0.975]\n",
      "------------------------------------------------------------------------------\n",
      "Lag1          -0.0327      0.026     -1.250      0.211      -0.084       0.019\n",
      "Lag2           0.0682      0.027      2.556      0.011       0.016       0.120\n",
      "Lag3          -0.0081      0.026     -0.306      0.759      -0.060       0.044\n",
      "Lag4          -0.0194      0.026     -0.740      0.459      -0.071       0.032\n",
      "Lag5          -0.0069      0.026     -0.261      0.794      -0.058       0.045\n",
      "Volume         0.0569      0.027      2.125      0.034       0.004       0.109\n",
      "==============================================================================\n"
     ]
    }
   ],
   "source": [
    "import statsmodels.api as sm\n",
    "logreg_sm = sm.Logit(y_data_sm, x_data).fit()\n",
    "print(logreg_sm.summary())"
   ]
  },
  {
   "cell_type": "markdown",
   "metadata": {
    "slideshow": {
     "slide_type": "notes"
    }
   },
   "source": [
    "The coefficient for Lag2 is positive vs all other lag returns are negative.\n",
    "\n",
    "Higher stock returns a fortnight ago predict a higher probability of a positive return this week, when this model is used.\n",
    "\n",
    "This is broadly in line with the pattern of correlations of today's return vs the lag returns seen above, while noting that the correlations relate to linear regression vs return which is not the same as logistic regression on the direction category, so wouldn't necessarily expect these to align perfectly.\n",
    "\n",
    "Lag2 has a small P value. Perhaps this is not intuitive?\n",
    "\n",
    "Volume also has a positive correlation and P value of less than 0.05.\n",
    "\n",
    "Some of you may have spotted a shortcoming of the model I've fitted here?\n",
    "\n",
    "LLR p-value:\n",
    "https://online.stat.psu.edu/stat462/node/207/"
   ]
  },
  {
   "cell_type": "markdown",
   "metadata": {
    "slideshow": {
     "slide_type": "skip"
    }
   },
   "source": [
    "Compared work to date with results here:\n",
    "\n",
    "https://blog.princehonest.com/stat-learning/ch4/10.html\n",
    "\n",
    "1) solution uses GLM with binomial which seems to be another way of fitting the same model.<br>\n",
    "2) solution includes an intercept. seems like a good idea because there isn't a reason to assume no intercept.<br>\n",
    "3) even with the intercept results are broadly similar.<br>\n",
    "4) ACTION: Use an intercept in my solution - COMPLETE<br>"
   ]
  },
  {
   "cell_type": "code",
   "execution_count": 12,
   "metadata": {
    "slideshow": {
     "slide_type": "slide"
    }
   },
   "outputs": [
    {
     "name": "stdout",
     "output_type": "stream",
     "text": [
      "Optimization terminated successfully.\n",
      "         Current function value: 0.682441\n",
      "         Iterations 4\n",
      "                           Logit Regression Results                           \n",
      "==============================================================================\n",
      "Dep. Variable:                      y   No. Observations:                 1089\n",
      "Model:                          Logit   Df Residuals:                     1082\n",
      "Method:                           MLE   Df Model:                            6\n",
      "Date:                Sat, 15 May 2021   Pseudo R-squ.:                0.006580\n",
      "Time:                        19:10:30   Log-Likelihood:                -743.18\n",
      "converged:                       True   LL-Null:                       -748.10\n",
      "Covariance Type:            nonrobust   LLR p-value:                    0.1313\n",
      "==============================================================================\n",
      "                 coef    std err          z      P>|z|      [0.025      0.975]\n",
      "------------------------------------------------------------------------------\n",
      "const          0.2669      0.086      3.106      0.002       0.098       0.435\n",
      "Lag1          -0.0413      0.026     -1.563      0.118      -0.093       0.010\n",
      "Lag2           0.0584      0.027      2.175      0.030       0.006       0.111\n",
      "Lag3          -0.0161      0.027     -0.602      0.547      -0.068       0.036\n",
      "Lag4          -0.0278      0.026     -1.050      0.294      -0.080       0.024\n",
      "Lag5          -0.0145      0.026     -0.549      0.583      -0.066       0.037\n",
      "Volume        -0.0227      0.037     -0.616      0.538      -0.095       0.050\n",
      "==============================================================================\n"
     ]
    }
   ],
   "source": [
    "# Run logistic regression again, this time with an intercept\n",
    "from statsmodels.tools import add_constant\n",
    "x_data_with_intercept = add_constant(x_data)\n",
    "logreg_sm_with_intercept = sm.Logit(y_data_sm, x_data_with_intercept).fit()\n",
    "print(logreg_sm_with_intercept.summary())"
   ]
  },
  {
   "cell_type": "markdown",
   "metadata": {
    "slideshow": {
     "slide_type": "slide"
    }
   },
   "source": [
    "#### Part (c) Compute the confusion matrix and overall fraction of correct predictions. Explain what the confusion matrix is telling you about the types of mistakes made by logistic regression."
   ]
  },
  {
   "cell_type": "code",
   "execution_count": 13,
   "metadata": {
    "scrolled": true,
    "slideshow": {
     "slide_type": "skip"
    }
   },
   "outputs": [],
   "source": [
    "def print_conf_matrix():\n",
    "    conf = logreg_sm.pred_table()\n",
    "    df_conf = pd.DataFrame(conf,columns=[['Predicted','Predicted'],['Down','Up']],index=[['Actual','Actual'],['Down','Up']])\n",
    "\n",
    "    print(\"\\n\",df_conf)\n",
    "\n",
    "    perc_conf = conf / np.sum(conf)\n",
    "    perc_conf_rounded = np.ndarray.round(perc_conf,2)\n",
    "    df_perc_conf_rounded = pd.DataFrame(perc_conf_rounded,columns=[['Predicted','Predicted'],['Down','Up']],index=[['Actual','Actual'],['Down','Up']])\n",
    "\n",
    "    print(\"\\n\",df_perc_conf_rounded)"
   ]
  },
  {
   "cell_type": "code",
   "execution_count": 14,
   "metadata": {
    "slideshow": {
     "slide_type": "fragment"
    }
   },
   "outputs": [
    {
     "name": "stdout",
     "output_type": "stream",
     "text": [
      "\n",
      "             Predicted       \n",
      "                 Down     Up\n",
      "Actual Down     172.0  312.0\n",
      "       Up       178.0  427.0\n",
      "\n",
      "             Predicted      \n",
      "                 Down    Up\n",
      "Actual Down      0.16  0.29\n",
      "       Up        0.16  0.39\n"
     ]
    }
   ],
   "source": [
    "print_conf_matrix()"
   ]
  },
  {
   "cell_type": "markdown",
   "metadata": {
    "slideshow": {
     "slide_type": "notes"
    }
   },
   "source": [
    "This is the \"confusion matrix\" for the _training dataset_, in terms of numbers and percentage of total.\n",
    "\n",
    "e.g. Top - left shows the number of entries where the direction is 0 (Down) and this was correctly predicted as such by the model.\n",
    "Similarly, bottom-right shows the number correctly predicted as 1 (Up)."
   ]
  },
  {
   "cell_type": "markdown",
   "metadata": {
    "slideshow": {
     "slide_type": "notes"
    }
   },
   "source": [
    "The total proportion correct is 16% + 39% = 55%\n",
    "\n",
    "29% \"disappointing\" weeks i.e. predicted to be good but were in fact bad - top right"
   ]
  },
  {
   "cell_type": "markdown",
   "metadata": {
    "slideshow": {
     "slide_type": "slide"
    }
   },
   "source": [
    "#### Part (d) Now fit the logistic regression model using a training data period from 1990 to 2008, with Lag2 as the only predictor. Compute the confusion matrix and the overall fraction of correct predictions for the held out data (that is, the data from 2009 and 2010)."
   ]
  },
  {
   "cell_type": "code",
   "execution_count": 15,
   "metadata": {
    "slideshow": {
     "slide_type": "skip"
    }
   },
   "outputs": [],
   "source": [
    "def check_train_data():\n",
    "    total = train_data['Year'].count() + test_data['Year'].count()\n",
    "    print(\"check total number of records should be 1089:\",total==1089)\n",
    "    r,c = train_data.shape\n",
    "    rw,cw = x_data.shape\n",
    "    print(\"the training data has \",r,\" entires, which is \",round(r/rw*100,0),\"% of the total\\n\")"
   ]
  },
  {
   "cell_type": "code",
   "execution_count": 16,
   "metadata": {
    "slideshow": {
     "slide_type": "fragment"
    }
   },
   "outputs": [
    {
     "name": "stdout",
     "output_type": "stream",
     "text": [
      "check total number of records should be 1089: True\n",
      "the training data has  985  entires, which is  90.0 % of the total\n",
      "\n"
     ]
    }
   ],
   "source": [
    "#Divide the data and perform some checks\n",
    "train_data=weekly_data[weekly_data['Year']<=2008]\n",
    "test_data=weekly_data[weekly_data['Year']>2008]\n",
    "check_train_data()"
   ]
  },
  {
   "cell_type": "markdown",
   "metadata": {
    "slideshow": {
     "slide_type": "notes"
    }
   },
   "source": [
    "The full dataset spans 20 years from 1990 to 2010 therefore cutting off after 2008 I would expect 2 years or 10% to be in the test data set."
   ]
  },
  {
   "cell_type": "code",
   "execution_count": 17,
   "metadata": {
    "slideshow": {
     "slide_type": "skip"
    }
   },
   "outputs": [
    {
     "name": "stdout",
     "output_type": "stream",
     "text": [
      "   const   Lag2\n",
      "1    1.0  1.572\n",
      "2    1.0  0.816\n",
      "3    1.0 -0.270\n",
      "4    1.0 -2.576\n",
      "5    1.0  3.514 \n",
      "\n",
      "1    Down\n",
      "2    Down\n",
      "3      Up\n",
      "4      Up\n",
      "5      Up\n",
      "Name: Direction, dtype: object\n"
     ]
    }
   ],
   "source": [
    "x_data_train = [[]]\n",
    "x_data_train = train_data.iloc[:,2] # 2 is the position of Lag2\n",
    "y_data_train = train_data.iloc[:,8] # 8 is the position of Direction\n",
    "x_data_train = add_constant(x_data_train)\n",
    "print(x_data_train.head(),'\\n')\n",
    "print(y_data_train.head())"
   ]
  },
  {
   "cell_type": "markdown",
   "metadata": {
    "slideshow": {
     "slide_type": "notes"
    }
   },
   "source": [
    "The predictor dataset is just Lag2, and this time remembered to include an intercept."
   ]
  },
  {
   "cell_type": "code",
   "execution_count": 18,
   "metadata": {
    "slideshow": {
     "slide_type": "skip"
    }
   },
   "outputs": [],
   "source": [
    "from sklearn.metrics import confusion_matrix\n",
    "from sklearn.metrics import classification_report\n",
    "from sklearn.metrics import precision_score"
   ]
  },
  {
   "cell_type": "markdown",
   "metadata": {
    "slideshow": {
     "slide_type": "slide"
    }
   },
   "source": [
    "#### Part (d) Fit logit model to training data using Lag2 only"
   ]
  },
  {
   "cell_type": "code",
   "execution_count": 19,
   "metadata": {
    "slideshow": {
     "slide_type": "skip"
    }
   },
   "outputs": [
    {
     "data": {
      "text/plain": [
       "1    0\n",
       "2    0\n",
       "3    1\n",
       "4    1\n",
       "5    1\n",
       "dtype: int32"
      ]
     },
     "execution_count": 19,
     "metadata": {},
     "output_type": "execute_result"
    }
   ],
   "source": [
    "conds = [y_data_train == 'Down',y_data_train=='Up']\n",
    "choices = [0,1]\n",
    "\n",
    "y_data_train_sm = pd.Series(np.select(conds,choices))\n",
    "\n",
    "y_data_train_sm.index +=1\n",
    "y_data_train_sm.head()"
   ]
  },
  {
   "cell_type": "code",
   "execution_count": 20,
   "metadata": {
    "slideshow": {
     "slide_type": "fragment"
    }
   },
   "outputs": [
    {
     "name": "stdout",
     "output_type": "stream",
     "text": [
      "Optimization terminated successfully.\n",
      "         Current function value: 0.685555\n",
      "         Iterations 4\n",
      "                           Logit Regression Results                           \n",
      "==============================================================================\n",
      "Dep. Variable:                      y   No. Observations:                  985\n",
      "Model:                          Logit   Df Residuals:                      983\n",
      "Method:                           MLE   Df Model:                            1\n",
      "Date:                Sat, 15 May 2021   Pseudo R-squ.:                0.003076\n",
      "Time:                        19:10:31   Log-Likelihood:                -675.27\n",
      "converged:                       True   LL-Null:                       -677.35\n",
      "Covariance Type:            nonrobust   LLR p-value:                   0.04123\n",
      "==============================================================================\n",
      "                 coef    std err          z      P>|z|      [0.025      0.975]\n",
      "------------------------------------------------------------------------------\n",
      "const          0.2033      0.064      3.162      0.002       0.077       0.329\n",
      "Lag2           0.0581      0.029      2.024      0.043       0.002       0.114\n",
      "==============================================================================\n",
      "\n",
      " Logistic Regression Prediction for Lag2 of -0.8:  Up\n"
     ]
    }
   ],
   "source": [
    "logreg_train_sm = sm.Logit(y_data_train_sm, x_data_train).fit()\n",
    "print(logreg_train_sm.summary())\n",
    "x_test_sm = [[1,-0.8]]\n",
    "predict_sample_prob_up = logreg_train_sm.predict(x_test_sm)\n",
    "pred_result = \"Up\" if predict_sample_prob_up > 0.5 else \"Down\"\n",
    "print(\"\\n\",\"Logistic Regression Prediction for Lag2 of -0.8: \",pred_result)"
   ]
  },
  {
   "cell_type": "markdown",
   "metadata": {
    "slideshow": {
     "slide_type": "notes"
    }
   },
   "source": [
    "We see a positive coefficient for Lag2 which is in line with the multivariate model result.\n",
    "The P value is less than 0.05.\n",
    "Does anybody have thoughts on what is an approriate limit for p value in this case?\n",
    "I would think if you were hoping to trade using this model, the limit would need to be quite low, 0.01 or lower.\n",
    "Especially if you subsribe to the efficient markets hypothesis."
   ]
  },
  {
   "cell_type": "markdown",
   "metadata": {
    "slideshow": {
     "slide_type": "skip"
    }
   },
   "source": [
    "#### Part (d) using scikit-learn. Fit logit model to training data Lag2\n",
    "\n",
    "Note - this is simply fitting the same model using a different python library"
   ]
  },
  {
   "cell_type": "code",
   "execution_count": 21,
   "metadata": {
    "slideshow": {
     "slide_type": "skip"
    }
   },
   "outputs": [],
   "source": [
    "x_data_nd = np.ndarray(shape=(x_data_train['Lag2'].size,1))\n",
    "x_data_nd[:,0] = x_data_train['Lag2'].values\n",
    "from sklearn.linear_model import LogisticRegression\n",
    "logreg_train = LogisticRegression()\n",
    "\n",
    "def fit_LR_using_Scikit_learn():\n",
    "\n",
    "    logreg_train.fit(x_data_nd,y_data_train)\n",
    "    print(\"intercept:\",logreg_train.intercept_,\"\\ncoefficients:\",logreg_train.coef_)\n",
    "    return logreg_train"
   ]
  },
  {
   "cell_type": "code",
   "execution_count": 22,
   "metadata": {
    "slideshow": {
     "slide_type": "skip"
    }
   },
   "outputs": [
    {
     "name": "stdout",
     "output_type": "stream",
     "text": [
      "intercept: [0.20326236] \n",
      "coefficients: [[0.05804742]]\n"
     ]
    }
   ],
   "source": [
    "logreg_train = fit_LR_using_Scikit_learn()"
   ]
  },
  {
   "cell_type": "markdown",
   "metadata": {
    "slideshow": {
     "slide_type": "notes"
    }
   },
   "source": [
    "The above function fits the same model using the scikit-learn library.\n",
    "The statsmodels library produces standard regression summary output including p values for Logistic Regression but doesn't do LDA, QDA, KNN.\n",
    "Need to use scikit-learn for these other models.\n",
    "And given switching library, wanted to run LR again as a check that switching library hasn't introduced any unintended consequences.\n",
    "Conclusion - ok - the coefficients are the same."
   ]
  },
  {
   "cell_type": "markdown",
   "metadata": {
    "slideshow": {
     "slide_type": "notes"
    }
   },
   "source": [
    "Now use the formula for logistic regression to manually build the prediction from the coefficients,\n",
    "based on the data in the _training set_."
   ]
  },
  {
   "cell_type": "code",
   "execution_count": 23,
   "metadata": {
    "slideshow": {
     "slide_type": "skip"
    }
   },
   "outputs": [],
   "source": [
    "B0 = logreg_train.intercept_[0]\n",
    "B1 = logreg_train.coef_[0,0]\n",
    "num_rows, num_cols = x_data_nd.shape\n",
    "num_rows\n",
    "y_data_predicted = pd.DataFrame(np.zeros(shape=(num_rows,1)), columns = ['label'])"
   ]
  },
  {
   "cell_type": "code",
   "execution_count": 24,
   "metadata": {
    "scrolled": true,
    "slideshow": {
     "slide_type": "slide"
    }
   },
   "outputs": [
    {
     "name": "stdout",
     "output_type": "stream",
     "text": [
      "    label  Log Odds  Exp of Log Odds  Probability of X Predicted Direction\n",
      "25    0.0  0.072133         1.074799          0.518025                  Up\n",
      "26    0.0  0.062323         1.064306          0.515576                  Up\n",
      "27    0.0  0.046070         1.047148          0.511515                  Up\n",
      "28    0.0  0.070218         1.072742          0.517547                  Up\n",
      "29    0.0 -0.085698         0.917872          0.478589                Down \n",
      "\n"
     ]
    }
   ],
   "source": [
    "y_data_predicted['Log Odds'] = B0 + B1 * x_data_nd\n",
    "y_data_predicted['Exp of Log Odds'] = np.exp(y_data_predicted['Log Odds'])\n",
    "y_data_predicted['Probability of X'] = y_data_predicted['Exp of Log Odds'] / (1+ y_data_predicted['Exp of Log Odds'])\n",
    "y_data_predicted['Predicted Direction'] = y_data_predicted['Probability of X'].apply(lambda x: 'Up' if x > 0.5 else 'Down')\n",
    "print(y_data_predicted.iloc[25:30],'\\n')"
   ]
  },
  {
   "cell_type": "markdown",
   "metadata": {
    "slideshow": {
     "slide_type": "notes"
    }
   },
   "source": [
    "These are some of the predictions - some up and some down. Note the negative value for the log odds. We're fitting a regression to the log odds so it can appear anywhere on the real number line. Whereas the we only see values between 0 and 1 for the probability of X, after the transformation has been applied.\n",
    "\n",
    "We can confirm this by looking at the min & max.\n",
    "\n",
    "In the last step the outcome is mapped to Up or Down based on a threshold. Any thoughts on what threshold might be appropriate here?"
   ]
  },
  {
   "cell_type": "code",
   "execution_count": 25,
   "metadata": {
    "slideshow": {
     "slide_type": "subslide"
    }
   },
   "outputs": [
    {
     "name": "stdout",
     "output_type": "stream",
     "text": [
      "       label    Log Odds  Exp of Log Odds  Probability of X\n",
      "count  985.0  985.000000       985.000000        985.000000\n",
      "mean     0.0    0.210682         1.245055          0.552284\n",
      "std      0.0    0.131714         0.162396          0.032273\n",
      "min      0.0   -0.852911         0.426173          0.298823\n",
      "25%      0.0    0.136682         1.146463          0.534117\n",
      "50%      0.0    0.216845         1.242152          0.554000\n",
      "75%      0.0    0.280872         1.324284          0.569760\n",
      "max      0.0    0.901341         2.462903          0.711225 \n",
      "\n",
      "Check that manual prediction matches the python's prediction: True\n"
     ]
    }
   ],
   "source": [
    "print(y_data_predicted.describe(),'\\n')\n",
    "skl_pred = pd.Series(logreg_train.predict(x_data_nd))\n",
    "print(\"Check that manual prediction matches the python's prediction:\",y_data_predicted['Predicted Direction'].equals(skl_pred))"
   ]
  },
  {
   "cell_type": "markdown",
   "metadata": {
    "slideshow": {
     "slide_type": "notes"
    }
   },
   "source": [
    "The above gives some intuition for the transformation that takes place under logistic regression in the binary case.\n",
    "\n",
    "- Log odds - range is -0.85 to 0.9 - this is the response variable of the regression\n",
    "- Taking the exponential of this to give the odds gives positive values only, with max of 2.46\n",
    "- Translating to probability gives values between 0 and 1 (range is 0.30 to 0.71)\n",
    "\n",
    "Now some plots to give a further feel."
   ]
  },
  {
   "cell_type": "code",
   "execution_count": 26,
   "metadata": {
    "slideshow": {
     "slide_type": "skip"
    }
   },
   "outputs": [
    {
     "data": {
      "text/plain": [
       "<seaborn.axisgrid.FacetGrid at 0x14699609eb0>"
      ]
     },
     "execution_count": 26,
     "metadata": {},
     "output_type": "execute_result"
    },
    {
     "data": {
      "image/png": "[encoded data removed]",
      "text/plain": [
       "<Figure size 360x360 with 1 Axes>"
      ]
     },
     "metadata": {
      "needs_background": "light"
     },
     "output_type": "display_data"
    },
    {
     "data": {
      "image/png": "[encoded data removed]",
      "text/plain": [
       "<Figure size 360x360 with 1 Axes>"
      ]
     },
     "metadata": {
      "needs_background": "light"
     },
     "output_type": "display_data"
    },
    {
     "data": {
      "image/png": "[encoded data removed]",
      "text/plain": [
       "<Figure size 360x360 with 1 Axes>"
      ]
     },
     "metadata": {
      "needs_background": "light"
     },
     "output_type": "display_data"
    }
   ],
   "source": [
    "sns.displot(y_data_predicted['Log Odds'], kind = 'kde')\n",
    "sns.displot(y_data_predicted['Exp of Log Odds'], kind = 'kde')\n",
    "sns.displot(y_data_predicted['Probability of X'], kind = 'kde')\n",
    "\n",
    "#action - combine the plots into a single plot"
   ]
  },
  {
   "cell_type": "markdown",
   "metadata": {
    "slideshow": {
     "slide_type": "skip"
    }
   },
   "source": [
    "Looking ahead to comparison of logit, LDA, KNN for part (h). Metrics for assessing the fit would be needed.\n",
    "\n",
    "The statsmodels library computes relevant metrics but only has logit model, not LDA or KNN.\n",
    "The scikit-learn library does not provide the relevant metrics (p-value, confidence interval, etc).\n",
    "\n",
    "Page below confirms that p-values and CIs etc are not available from scikit-learn.\n",
    "\n",
    "https://datascience.stackexchange.com/questions/15398/how-to-get-p-value-and-confident-interval-in-logisticregression-with-sklearn\n",
    "\n",
    "Python library pymvpa implementation of LDA, QDA, KNN is available however it is only released on python 2.\n",
    "According to documentation it seems to have p-values and CIs.\n",
    "\n",
    "It seems in R, the p-values are not reported for LDA, QDA, KNN therefore perhaps they are not applicable to these models.\n",
    "\n",
    "ACTION: Look into optimising the fit by varying parameters under scikit-learn cross validation. My understanding however for LR, LDA, QDA - because there are no fundamental 'parameters' of this model, aside from the coefficients, that such an exercise wouldn't generate huge differences in the accuracy achieved. Whereas in KNN the _number of nearest neighbours_ could be varied."
   ]
  },
  {
   "cell_type": "markdown",
   "metadata": {
    "slideshow": {
     "slide_type": "skip"
    }
   },
   "source": [
    "The notebook at location below is one that executes the examples in python.\n",
    "\n",
    "C:\\Users\\james\\Jupyter Notebooks\\ISLR\\ISLR_Chapter_4_Classification.ipynb"
   ]
  },
  {
   "cell_type": "markdown",
   "metadata": {
    "slideshow": {
     "slide_type": "slide"
    }
   },
   "source": [
    "#### Part (e) Repeat (d) using LDA."
   ]
  },
  {
   "cell_type": "code",
   "execution_count": 27,
   "metadata": {
    "slideshow": {
     "slide_type": "fragment"
    }
   },
   "outputs": [
    {
     "name": "stdout",
     "output_type": "stream",
     "text": [
      "LDA Prediction for Lag2 of -0.8:  ['Up'] \n",
      "\n"
     ]
    }
   ],
   "source": [
    "from sklearn.discriminant_analysis import LinearDiscriminantAnalysis\n",
    "LDA_train = LinearDiscriminantAnalysis()\n",
    "LDA_train.fit(x_data_nd,y_data_train)\n",
    "print(\"LDA Prediction for Lag2 of -0.8: \",LDA_train.predict([[-0.8]]),\"\\n\")"
   ]
  },
  {
   "cell_type": "markdown",
   "metadata": {
    "slideshow": {
     "slide_type": "slide"
    }
   },
   "source": [
    "#### Part (f) Repeat (d) using QDA."
   ]
  },
  {
   "cell_type": "code",
   "execution_count": 28,
   "metadata": {
    "slideshow": {
     "slide_type": "fragment"
    }
   },
   "outputs": [
    {
     "name": "stdout",
     "output_type": "stream",
     "text": [
      "QDA Prediction for Lag2 of -0.8:  ['Up']\n"
     ]
    }
   ],
   "source": [
    "from sklearn.discriminant_analysis import QuadraticDiscriminantAnalysis\n",
    "QDA_train = QuadraticDiscriminantAnalysis()\n",
    "QDA_train.fit(x_data_nd,y_data_train)\n",
    "print(\"QDA Prediction for Lag2 of -0.8: \",QDA_train.predict([[-0.8]]))"
   ]
  },
  {
   "cell_type": "markdown",
   "metadata": {
    "slideshow": {
     "slide_type": "slide"
    }
   },
   "source": [
    "#### Part (g) Repeat (d) using KNN with K = 1."
   ]
  },
  {
   "cell_type": "code",
   "execution_count": 29,
   "metadata": {
    "slideshow": {
     "slide_type": "fragment"
    }
   },
   "outputs": [
    {
     "name": "stdout",
     "output_type": "stream",
     "text": [
      "KNN Prediction for Lag2 of -0.8:  ['Down']\n"
     ]
    }
   ],
   "source": [
    "from sklearn.neighbors import KNeighborsClassifier\n",
    "neigh_train = KNeighborsClassifier(n_neighbors=1)\n",
    "neigh_train.fit(x_data_nd,y_data_train)\n",
    "\n",
    "print(\"KNN Prediction for Lag2 of -0.8: \",neigh_train.predict([[-0.8]]))"
   ]
  },
  {
   "cell_type": "markdown",
   "metadata": {
    "slideshow": {
     "slide_type": "notes"
    }
   },
   "source": [
    "Note the prediction with KNN is opposite to the other models (with 1 nearest neighbour at least)"
   ]
  },
  {
   "cell_type": "markdown",
   "metadata": {
    "slideshow": {
     "slide_type": "skip"
    }
   },
   "source": [
    "Below I have analysed the means for weekly data and produced boxplots for lag2 to give some further intuition for the relationship between it and the direction.\n",
    "Boxplots are shown separately for up and down.\n",
    "\n",
    "ACTION - move these up to earlier points in the analysis as appropriate."
   ]
  },
  {
   "cell_type": "code",
   "execution_count": 30,
   "metadata": {
    "slideshow": {
     "slide_type": "skip"
    }
   },
   "outputs": [
    {
     "name": "stdout",
     "output_type": "stream",
     "text": [
      "                  Year      Lag1      Lag2      Lag3      Lag4      Lag5  \\\n",
      "Direction                                                                  \n",
      "Down       2000.198347  0.282295 -0.040424  0.207647  0.200021  0.187835   \n",
      "Up         1999.928926  0.045217  0.304281  0.098851  0.102456  0.101539   \n",
      "Diff         -0.269421 -0.237079  0.344705 -0.108795 -0.097564 -0.086296   \n",
      "\n",
      "             Volume     Today  \n",
      "Direction                      \n",
      "Down       1.608536 -1.746585  \n",
      "Up         1.547483  1.667086  \n",
      "Diff      -0.061053  3.413671  \n"
     ]
    }
   ],
   "source": [
    "means_df=weekly_data.groupby('Direction').mean()\n",
    "means_df.loc['Diff']=means_df.apply(lambda x: x['Up']-x['Down'])\n",
    "print(means_df)\n",
    "\n",
    "#weekly_data[['Lag2','Direction']].groupby('Direction').describe()"
   ]
  },
  {
   "cell_type": "code",
   "execution_count": 31,
   "metadata": {
    "scrolled": true,
    "slideshow": {
     "slide_type": "skip"
    }
   },
   "outputs": [
    {
     "data": {
      "image/png": "[encoded data removed]",
      "text/plain": [
       "<Figure size 432x288 with 1 Axes>"
      ]
     },
     "metadata": {
      "needs_background": "light"
     },
     "output_type": "display_data"
    }
   ],
   "source": [
    "%matplotlib inline\n",
    "fig1, ax1 = plt.subplots()\n",
    "weekly_data.boxplot(column=['Lag2'],by='Direction',ax=ax1)\n",
    "plt.show()"
   ]
  },
  {
   "cell_type": "markdown",
   "metadata": {
    "slideshow": {
     "slide_type": "slide"
    }
   },
   "source": [
    "#### Part (h) Which of these methods appears to provide the best results on this data?"
   ]
  },
  {
   "cell_type": "code",
   "execution_count": 32,
   "metadata": {
    "slideshow": {
     "slide_type": "skip"
    }
   },
   "outputs": [
    {
     "name": "stdout",
     "output_type": "stream",
     "text": [
      "Classification Report for Logistic Regression:\n",
      "               precision    recall  f1-score   support\n",
      "\n",
      "        Down       0.53      0.05      0.10       441\n",
      "          Up       0.56      0.96      0.71       544\n",
      "\n",
      "    accuracy                           0.56       985\n",
      "   macro avg       0.55      0.51      0.40       985\n",
      "weighted avg       0.55      0.56      0.43       985\n",
      " \n",
      "\n"
     ]
    }
   ],
   "source": [
    "y_pred_logit = logreg_train.predict(x_data_nd)\n",
    "y_pred_LDA = LDA_train.predict(x_data_nd)\n",
    "y_pred_QDA = QDA_train.predict(x_data_nd)\n",
    "y_pred_KNN = neigh_train.predict(x_data_nd)\n",
    "\n",
    "print(\"Classification Report for Logistic Regression:\\n\",classification_report(y_data_train, y_pred_logit, labels=['Down','Up']),'\\n')\n"
   ]
  },
  {
   "cell_type": "code",
   "execution_count": 33,
   "metadata": {
    "slideshow": {
     "slide_type": "slide"
    }
   },
   "outputs": [
    {
     "name": "stdout",
     "output_type": "stream",
     "text": [
      "Confusion matrix for Logistic Regression:\n",
      " [[ 23 418]\n",
      " [ 20 524]] \n",
      "\n",
      "Precision for Up  - Logistic Regression:  55.6 %\n",
      "Precision for Up  - LDA:  55.6 %\n",
      "Precision for Up  - QDA:  55.2 %\n",
      "Precision for Up  - KNN (1):  95.6 %\n"
     ]
    }
   ],
   "source": [
    "print(\"Confusion matrix for Logistic Regression:\\n\",confusion_matrix(y_data_train, y_pred_logit, labels=['Down','Up']),'\\n')\n",
    "\n",
    "print(\"Precision for Up  - Logistic Regression: \",round(precision_score(y_data_train, y_pred_logit,pos_label='Up')*100,1),\"%\")\n",
    "print(\"Precision for Up  - LDA: \",round(precision_score(y_data_train, y_pred_LDA,pos_label='Up')*100,1),\"%\")\n",
    "print(\"Precision for Up  - QDA: \",round(precision_score(y_data_train, y_pred_QDA,pos_label='Up')*100,1),\"%\")\n",
    "print(\"Precision for Up  - KNN (1): \",round(precision_score(y_data_train, y_pred_KNN,pos_label='Up')*100,1),\"%\")"
   ]
  },
  {
   "cell_type": "markdown",
   "metadata": {
    "slideshow": {
     "slide_type": "notes"
    }
   },
   "source": [
    "Note these statistics are based on the training data. The training error rate is often overly optimistic—it\n",
    "tends to underestimate the test error rate.\n",
    "\n",
    "A good classifier is one for which the test error rate is smallest.\n",
    "\n",
    "The precision is a lot higher for KNN. Reflect on this after repeating for test dataset."
   ]
  },
  {
   "cell_type": "code",
   "execution_count": 34,
   "metadata": {
    "slideshow": {
     "slide_type": "skip"
    }
   },
   "outputs": [
    {
     "name": "stdout",
     "output_type": "stream",
     "text": [
      "(104,) \n",
      "\n",
      "986   -1.698\n",
      "987    6.760\n",
      "988   -4.448\n",
      "989   -4.518\n",
      "990   -2.137\n",
      "Name: Lag2, dtype: float64 \n",
      "\n",
      "986    Down\n",
      "987    Down\n",
      "988    Down\n",
      "989    Down\n",
      "990      Up\n",
      "Name: Direction, dtype: object\n"
     ]
    }
   ],
   "source": [
    "x_data_test = test_data.iloc[:,2]\n",
    "y_data_test = test_data.iloc[:,8]\n",
    "\n",
    "x_data_test_nd = np.ndarray(shape=(x_data_test.size,1))\n",
    "x_data_test_nd[:,0] = x_data_test.values\n",
    "\n",
    "print(x_data_test.shape,'\\n')\n",
    "print(x_data_test.head(),'\\n')\n",
    "print(y_data_test.head())"
   ]
  },
  {
   "cell_type": "code",
   "execution_count": 35,
   "metadata": {
    "slideshow": {
     "slide_type": "slide"
    }
   },
   "outputs": [
    {
     "name": "stdout",
     "output_type": "stream",
     "text": [
      "Precision for Up  - Logistic Regression:  62.2 %\n",
      "Precision for Up  - LDA:  62.2 %\n",
      "Precision for Up  - QDA:  58.7 %\n",
      "Precision for Up  - KNN (1):  57.7 %\n"
     ]
    }
   ],
   "source": [
    "y_pred_test_logit = logreg_train.predict(x_data_test_nd)\n",
    "y_pred_test_LDA = LDA_train.predict(x_data_test_nd)\n",
    "y_pred_test_QDA = QDA_train.predict(x_data_test_nd)\n",
    "y_pred_test_KNN = neigh_train.predict(x_data_test_nd)\n",
    "\n",
    "print(\"Precision for Up  - Logistic Regression: \",round(precision_score(y_data_test, y_pred_test_logit,pos_label='Up')*100,1),\"%\")\n",
    "print(\"Precision for Up  - LDA: \",round(precision_score(y_data_test, y_pred_test_LDA,pos_label='Up')*100,1),\"%\")\n",
    "print(\"Precision for Up  - QDA: \",round(precision_score(y_data_test, y_pred_test_QDA,pos_label='Up')*100,1),\"%\")\n",
    "print(\"Precision for Up  - KNN (1): \",round(precision_score(y_data_test, y_pred_test_KNN,pos_label='Up')*100,1),\"%\")"
   ]
  },
  {
   "cell_type": "markdown",
   "metadata": {
    "slideshow": {
     "slide_type": "slide"
    }
   },
   "source": [
    "Logistic Regression & LDA appear to give the best results when targetting the precision score for Up movements."
   ]
  },
  {
   "cell_type": "code",
   "execution_count": 36,
   "metadata": {
    "slideshow": {
     "slide_type": "skip"
    }
   },
   "outputs": [
    {
     "name": "stdout",
     "output_type": "stream",
     "text": [
      "Confusion matrix for LDA on test data:\n",
      " [[ 9 34]\n",
      " [ 5 56]] \n",
      "\n",
      "Confusion matrix for QDA on test data:\n",
      " [[ 0 43]\n",
      " [ 0 61]] \n",
      "\n",
      "Confusion matrix for KNN on test data:\n",
      " [[21 22]\n",
      " [31 30]] \n",
      "\n"
     ]
    }
   ],
   "source": [
    "print(\"Confusion matrix for LDA on test data:\\n\",confusion_matrix(y_data_test, y_pred_test_LDA, labels=['Down','Up']),'\\n')\n",
    "print(\"Confusion matrix for QDA on test data:\\n\",confusion_matrix(y_data_test, y_pred_test_QDA, labels=['Down','Up']),'\\n')\n",
    "print(\"Confusion matrix for KNN on test data:\\n\",confusion_matrix(y_data_test, y_pred_test_KNN, labels=['Down','Up']),'\\n')"
   ]
  },
  {
   "cell_type": "markdown",
   "metadata": {
    "slideshow": {
     "slide_type": "slide"
    }
   },
   "source": [
    "#### Part (i) Experiment with different combinations of predictors, including possible transformations and interactions, for each of the methods. Report the variables, method, and associated confusion matrix that appears to provide the best results on the held out data. Note that you should also experiment with values for K in the KNN classifier.\n",
    "\n",
    "Transformations - Like x^2\n",
    "\n",
    "Interactions - like using product of volume and Lag2 as aninteraction variable\n"
   ]
  },
  {
   "cell_type": "code",
   "execution_count": 37,
   "metadata": {
    "slideshow": {
     "slide_type": "skip"
    }
   },
   "outputs": [],
   "source": [
    "from patsy import dmatrices\n",
    "\n",
    "def run(design,model_name,n_neighbors_input=1,print_coef_LR=False):\n",
    "    model_set = {'LR':LogisticRegression(),'LDA':LinearDiscriminantAnalysis(),'QDA':QuadraticDiscriminantAnalysis(),'KNN':KNeighborsClassifier(n_neighbors=n_neighbors_input)}\n",
    "    y, X = dmatrices(design, train_data, return_type = 'dataframe')\n",
    "    model = model_set[model_name]\n",
    "    model.fit(X,y_data_train)\n",
    "    y_test, X_test = dmatrices(design, test_data, return_type = 'dataframe')\n",
    "    y_predicted = model.predict(X_test)\n",
    "    if print_coef_LR:\n",
    "        print(\"Intercept\", model.intercept_,\"Coefficients:\",model.coef_)\n",
    "    print(\"Precision for Up - \",model_name,n_neighbors_input if model_name == 'KNN' else \"\"\n",
    "          ,design,\": \",round(precision_score(y_data_test, y_predicted,pos_label='Up')*100,4),\"%\")"
   ]
  },
  {
   "cell_type": "code",
   "execution_count": 38,
   "metadata": {
    "slideshow": {
     "slide_type": "skip"
    }
   },
   "outputs": [],
   "source": [
    "def fit_all_and_report_precision():\n",
    "    run('Direction~Lag2-1','LR')\n",
    "    run('Direction~Lag1+Lag2+Lag3+Lag4+Lag5+Volume-1','LR')\n",
    "    run('Direction~Lag2+Lag1-1','LR') # y = Lag2 + Lag1 + b\n",
    "    run('Direction~Lag2*Lag1-1','LR') # y = Lag2 + Lag1 + Lag2*Lag1 + b\n",
    "    run('Direction~Lag2+I(Lag2**2)-1','LR') # y = Lag2 + Lag2^2 + b\n",
    "    run('Direction~Lag1+Lag2+Lag3+Lag4+Lag5+Volume-1','LDA')\n",
    "    run('Direction~Lag2-1','LDA')\n",
    "    run('Direction~Lag1+Lag2+Lag3+Lag4+Lag5+Volume-1','QDA')\n",
    "    run('Direction~Lag2-1','QDA')\n",
    "    run('Direction~Lag2-1','KNN',1)\n",
    "    run('Direction~Lag2-1','KNN',2)\n",
    "    run('Direction~Lag2-1','KNN',3)\n",
    "    run('Direction~Lag2-1','KNN',4)\n",
    "    run('Direction~Lag2-1','KNN',5)\n",
    "    run('Direction~Lag2-1','KNN',6)\n",
    "    run('Direction~Lag2-1','KNN',7)\n",
    "    run('Direction~Lag2-1','KNN',15)"
   ]
  },
  {
   "cell_type": "code",
   "execution_count": 39,
   "metadata": {
    "slideshow": {
     "slide_type": "slide"
    }
   },
   "outputs": [
    {
     "name": "stdout",
     "output_type": "stream",
     "text": [
      "Precision for Up -  LR  Direction~Lag2-1 :  62.2222 %\n",
      "Precision for Up -  LR  Direction~Lag1+Lag2+Lag3+Lag4+Lag5+Volume-1 :  58.6207 %\n",
      "Precision for Up -  LR  Direction~Lag2+Lag1-1 :  59.5506 %\n",
      "Precision for Up -  LR  Direction~Lag2*Lag1-1 :  59.5506 %\n",
      "Precision for Up -  LR  Direction~Lag2+I(Lag2**2)-1 :  61.9565 %\n",
      "Precision for Up -  LDA  Direction~Lag1+Lag2+Lag3+Lag4+Lag5+Volume-1 :  58.6207 %\n",
      "Precision for Up -  LDA  Direction~Lag2-1 :  62.2222 %\n",
      "Precision for Up -  QDA  Direction~Lag1+Lag2+Lag3+Lag4+Lag5+Volume-1 :  54.5455 %\n",
      "Precision for Up -  QDA  Direction~Lag2-1 :  58.6538 %\n",
      "Precision for Up -  KNN 1 Direction~Lag2-1 :  57.6923 %\n",
      "Precision for Up -  KNN 2 Direction~Lag2-1 :  60.0 %\n",
      "Precision for Up -  KNN 3 Direction~Lag2-1 :  59.4203 %\n",
      "Precision for Up -  KNN 4 Direction~Lag2-1 :  66.6667 %\n",
      "Precision for Up -  KNN 5 Direction~Lag2-1 :  59.0909 %\n",
      "Precision for Up -  KNN 6 Direction~Lag2-1 :  60.3448 %\n",
      "Precision for Up -  KNN 7 Direction~Lag2-1 :  60.2941 %\n",
      "Precision for Up -  KNN 15 Direction~Lag2-1 :  64.0625 %\n"
     ]
    }
   ],
   "source": [
    "fit_all_and_report_precision()"
   ]
  },
  {
   "cell_type": "code",
   "execution_count": 40,
   "metadata": {
    "slideshow": {
     "slide_type": "skip"
    }
   },
   "outputs": [
    {
     "name": "stdout",
     "output_type": "stream",
     "text": [
      "Confusion matrix for KNN on test data:\n",
      " [[22 21]\n",
      " [24 37]] \n",
      "\n"
     ]
    }
   ],
   "source": [
    "y, X = dmatrices(\"Direction~Lag2-1\", train_data, return_type = 'dataframe')\n",
    "y_test, X_test = dmatrices(\"Direction~Lag2-1\", test_data, return_type = 'dataframe')\n",
    "y_predicted = KNeighborsClassifier(n_neighbors=10).fit(X,y_data_train).predict(X_test) \n",
    "print(\"Confusion matrix for KNN on test data:\\n\",confusion_matrix(y_data_test, y_predicted, labels=['Down','Up']),'\\n')"
   ]
  },
  {
   "cell_type": "markdown",
   "metadata": {
    "slideshow": {
     "slide_type": "notes"
    }
   },
   "source": [
    "Of all the LR models, Lag2 does best.\n",
    "\n",
    "For LDA and QDA, Lag2 alone does better than the full model.\n",
    "\n",
    "The best score here is 67% for KNN with 4 nearest neighbours.\n",
    "\n",
    "LDA achieves the same results as logistic regression - the text notes the common theoretical underpinnings. The text notes they can diverge when the assumption of normal distributions with the same variance in each class either holds very well or doesn't hold at all. The normal distribution has noted limitations in capturing the fat tails present in the stock returns so perhaps it's a little surprising that the two models align so closely.\n",
    "\n",
    "The text notes that QDA is in between LDA and KNN in terms of flexibility. However in this analysis, it performs worse.\n",
    "\n",
    "#3 and #4 produce the same precision, even though #4 includes an extra term - the product of Lag1 and Lag2. The following shows the coefficients are different.\n",
    "\n",
    "From #5, adding the quadratic Lag2 to the logisitic regression is slight worse than just Lag2.\n",
    "\n",
    "So KNN performs best but would you trade on it?\n",
    "\n",
    "KNN is more flexible than the other models, being non-parametric. So it should have less bias, but perhaps suffer from more variance. Perhaps this strong result would not be repeated if using another sample"
   ]
  },
  {
   "cell_type": "code",
   "execution_count": 41,
   "metadata": {
    "slideshow": {
     "slide_type": "skip"
    }
   },
   "outputs": [
    {
     "name": "stdout",
     "output_type": "stream",
     "text": [
      "Intercept [0.21108473] Coefficients: [[ 0.05380124 -0.05416658]]\n",
      "Precision for Up -  LR  Direction~Lag2+Lag1-1 :  59.5506 %\n",
      "Intercept [0.21142029] Coefficients: [[ 0.05342945 -0.05146017  0.00192588]]\n",
      "Precision for Up -  LR  Direction~Lag2*Lag1-1 :  59.5506 %\n"
     ]
    }
   ],
   "source": [
    "run('Direction~Lag2+Lag1-1','LR',print_coef_LR=True) # y = Lag2 + Lag1 + b\n",
    "run('Direction~Lag2*Lag1-1','LR',print_coef_LR=True) # y = Lag2 + Lag1 + Lag2*Lag1 + b"
   ]
  },
  {
   "cell_type": "markdown",
   "metadata": {
    "slideshow": {
     "slide_type": "slide"
    }
   },
   "source": [
    "***\n",
    "### R & Python Study Group - Statistical Learning\n",
    "***\n",
    "05/05/2021\n",
    "\n",
    "Demo - Classification Exercise\n",
    "\n",
    "James Bredin"
   ]
  }
 ],
 "metadata": {
  "celltoolbar": "Slideshow",
  "kernelspec": {
   "display_name": "Python 3",
   "language": "python",
   "name": "python3"
  },
  "language_info": {
   "codemirror_mode": {
    "name": "ipython",
    "version": 3
   },
   "file_extension": ".py",
   "mimetype": "text/x-python",
   "name": "python",
   "nbconvert_exporter": "python",
   "pygments_lexer": "ipython3",
   "version": "3.8.5"
  }
 },
 "nbformat": 4,
 "nbformat_minor": 4
}
